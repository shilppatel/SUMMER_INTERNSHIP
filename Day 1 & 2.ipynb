{
 "cells": [
  {
   "cell_type": "markdown",
   "metadata": {},
   "source": [
    "# Day 1 [26/05/2021]\n",
    "### Task : build a python program which can take input of students with their subject marks, and gives their total marks obtained."
   ]
  },
  {
   "cell_type": "code",
   "execution_count": 1,
   "metadata": {},
   "outputs": [
    {
     "name": "stdout",
     "output_type": "stream",
     "text": [
      "number of students2\n",
      "enter name of studentnilay\n",
      "Enter marks\n",
      "maths 99\n",
      "english 95\n",
      "Science 91\n",
      "marks total  of  nilay is 285\n",
      "-----------------------------------------------\n",
      "enter name of studentqwerty\n",
      "Enter marks\n",
      "maths 51\n",
      "english 78\n",
      "Science 99\n",
      "marks total  of  qwerty is 228\n",
      "-----------------------------------------------\n"
     ]
    }
   ],
   "source": [
    "stu = int(input(\"number of students\"))\n",
    "for j in range(stu):\n",
    "    a = input(\"enter name of student\")\n",
    "    print(\"Enter marks\")\n",
    "    maths = int(input(\"maths \"))\n",
    "    eng = int(input(\"english \"))\n",
    "    science = int(input(\"Science \"))\n",
    "\n",
    "    print(\"marks total  of \",a,\"is\", maths + eng + science)\n",
    "    print(\"-----------------------------------------------\")\n"
   ]
  },
  {
   "cell_type": "markdown",
   "metadata": {},
   "source": [
    "# Day 2 [27/05/2021]\n",
    "### Task : list out the methods used commonly in list,set,tuple,dictionary with thier rules"
   ]
  },
  {
   "cell_type": "code",
   "execution_count": 19,
   "metadata": {},
   "outputs": [
    {
     "name": "stdout",
     "output_type": "stream",
     "text": [
      "list => ['aa', 'bb', 'cc', 'aa', 'dd', 'bb']\n",
      "list[1] => bb\n",
      "list[-1] => bb\n",
      "list[1,3] => ['bb', 'cc']\n",
      "list[-4,-1] => ['cc', 'aa', 'dd']\n",
      "newlist => ['aa', 'ee', 'cc', 'aa', 'dd', 'bb']\n",
      "list after appending ff => ['aa', 'ee', 'cc', 'aa', 'dd', 'bb', 'ff']\n",
      "list after removing bb => ['aa', 'ee', 'cc', 'aa', 'dd', 'ff']\n",
      "\n",
      "print using for loop\n",
      "aa\n",
      "ee\n",
      "cc\n",
      "aa\n",
      "dd\n",
      "ff\n",
      "after sorting ['aa', 'aa', 'cc', 'dd', 'ee', 'ff']\n",
      "list2 => ['zz', 'yy', 'xx', 'ww']\n",
      "joining list ['zz', 'yy', 'xx', 'ww', 'aa', 'aa', 'cc', 'dd', 'ee', 'ff']\n"
     ]
    }
   ],
   "source": [
    "#list\n",
    "list = [\"aa\",\"bb\",\"cc\",\"aa\",\"dd\",\"bb\"]\n",
    "list2 = [\"zz\",\"yy\",\"xx\",\"ww\"]\n",
    "print(\"list =>\",list)\n",
    "print(\"list[1] =>\",list[1])\n",
    "print(\"list[-1] =>\",list[-1])\n",
    "print(\"list[1,3] =>\",list[1:3])\n",
    "print(\"list[-4,-1] =>\",list[-4:-1])#[-1:-4] not possible\n",
    "\n",
    "list[1] = \"ee\"\n",
    "\n",
    "print(\"newlist =>\",list)\n",
    "list.append(\"ff\")\n",
    "print(\"list after appending ff =>\",list)\n",
    "list.remove(\"bb\")\n",
    "print(\"list after removing bb =>\",list)\n",
    "\n",
    "print(\"\\nprint using for loop\")\n",
    "for x in list:\n",
    "    print(x)\n",
    "list.sort()\n",
    "print(\"after sorting\",list)\n",
    "\n",
    "print(\"list2 =>\",list2)\n",
    "\n",
    "list2.extend(list)\n",
    "print(\"joining list\",list2)"
   ]
  },
  {
   "cell_type": "code",
   "execution_count": 15,
   "metadata": {},
   "outputs": [
    {
     "name": "stdout",
     "output_type": "stream",
     "text": [
      "set => {'c', 'd', 'b', 'e', 'a'}\n",
      "length set => 5\n",
      "set type <class 'set'>\n",
      "set1={'w','w','x','y','z','y'} => {'y', 'w', 'x', 'z'}\n",
      "\n",
      "\n",
      "using for loop\n",
      "c\n",
      "d\n",
      "b\n",
      "e\n",
      "a\n",
      "set => {'c', 'd', 'b', 'e', 'a', 'orange'}\n",
      "set updated to set2 => {'l', 'y', 'c', 'n', 'd', 'b', 'e', 'a', 'i', 'orange'}\n",
      "after removing a => {'l', 'y', 'c', 'n', 'd', 'b', 'e', 'i', 'orange'}\n",
      "after using clear => set()\n",
      "new set3 => {'l', 'x', 'w', 'y', 'n', 'z', 'a', 'i'}\n"
     ]
    }
   ],
   "source": [
    "#set\n",
    "set = {'a','b','c','d','e'}\n",
    "set1 = {'w','w','x','y','z','y'}\n",
    "\n",
    "print(\"set =>\",set)\n",
    "print(\"length set =>\",len(set))\n",
    "print(\"set type\",type(set))\n",
    "print(\"set1={'w','w','x','y','z','y'} =>\",set1) #duplicates not allowed\n",
    "print(\"\\n\")\n",
    "print(\"using for loop\")\n",
    "for x in set:\n",
    "    print(x)\n",
    "    \n",
    "set.add(\"orange\")\n",
    "print(\"set =>\",set)\n",
    "set2 = {'n','i','l','a','y'}\n",
    "set.update(set2)\n",
    "print(\"set updated to set2 =>\",set)\n",
    "set.remove(\"a\")\n",
    "print(\"after removing a =>\",set)\n",
    "set.clear()\n",
    "print(\"after using clear =>\",set)\n",
    "\n",
    "set3 = set1.union(set2)\n",
    "print(\"new set3 =>\",set3)"
   ]
  },
  {
   "cell_type": "code",
   "execution_count": 29,
   "metadata": {},
   "outputs": [
    {
     "name": "stdout",
     "output_type": "stream",
     "text": [
      "('apple', 'banana', 'cherry', 'a')\n",
      "banana\n",
      "a\n"
     ]
    }
   ],
   "source": [
    "#tuple\n",
    "tuple1 = (\"apple\", \"banana\", \"cherry\",\"a\")\n",
    "print(tuple1)\n",
    "print(tuple1[1])\n",
    "print(tuple1[-1])\n",
    "\n"
   ]
  },
  {
   "cell_type": "code",
   "execution_count": null,
   "metadata": {},
   "outputs": [],
   "source": []
  },
  {
   "cell_type": "code",
   "execution_count": null,
   "metadata": {},
   "outputs": [],
   "source": [
    "Day 5 : 1) Try to clean this data 2) decision tree explanation 3) random state working"
   ]
  },
  {
   "cell_type": "code",
   "execution_count": null,
   "metadata": {},
   "outputs": [],
   "source": []
  }
 ],
 "metadata": {
  "kernelspec": {
   "display_name": "Python 3",
   "language": "python",
   "name": "python3"
  },
  "language_info": {
   "codemirror_mode": {
    "name": "ipython",
    "version": 3
   },
   "file_extension": ".py",
   "mimetype": "text/x-python",
   "name": "python",
   "nbconvert_exporter": "python",
   "pygments_lexer": "ipython3",
   "version": "3.8.5"
  }
 },
 "nbformat": 4,
 "nbformat_minor": 4
}
